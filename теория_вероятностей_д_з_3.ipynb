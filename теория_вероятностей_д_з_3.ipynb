{
 "cells": [
  {
   "cell_type": "code",
   "execution_count": 77,
   "id": "93c37a9d",
   "metadata": {},
   "outputs": [],
   "source": [
    "import warnings\n",
    "\n",
    "import numpy as np\n",
    "import pandas as pd\n",
    "\n",
    "warnings.filterwarnings('ignore')"
   ]
  },
  {
   "cell_type": "markdown",
   "id": "92425cf7",
   "metadata": {},
   "source": [
    "### Задача № 1"
   ]
  },
  {
   "cell_type": "code",
   "execution_count": 78,
   "id": "a91fb597",
   "metadata": {},
   "outputs": [
    {
     "data": {
      "text/plain": [
       "wage    65.3\n",
       "dtype: float64"
      ]
     },
     "execution_count": 78,
     "metadata": {},
     "output_type": "execute_result"
    }
   ],
   "source": [
    "a = pd.DataFrame([100, 80, 75, 77, 89, 33, 45, 25, 65, 17, 30, 24, 57, 55, 70, 75, 65, 84, 90, 150], columns=['wage'])\n",
    "\n",
    "mean_wage = a.sum()/a.count() ### среднее арифметическое\n",
    "\n",
    "mean_wage"
   ]
  },
  {
   "cell_type": "code",
   "execution_count": 79,
   "id": "2d56a93f",
   "metadata": {},
   "outputs": [
    {
     "data": {
      "text/plain": [
       "wage    65.3\n",
       "dtype: float64"
      ]
     },
     "execution_count": 79,
     "metadata": {},
     "output_type": "execute_result"
    }
   ],
   "source": [
    "a.mean()### среднее арифметическое, проверка"
   ]
  },
  {
   "cell_type": "code",
   "execution_count": 81,
   "id": "6d1d8e8c",
   "metadata": {},
   "outputs": [
    {
     "data": {
      "text/plain": [
       "30.823854398825596"
      ]
     },
     "execution_count": 81,
     "metadata": {},
     "output_type": "execute_result"
    }
   ],
   "source": [
    "### среднее квадратическое\n",
    "result_std = np.sqrt(((a['wage'] - a['wage'].mean()) ** 2).sum() / a['wage'].count())\n",
    "\n",
    "result_std "
   ]
  },
  {
   "cell_type": "code",
   "execution_count": 82,
   "id": "fb5ed284",
   "metadata": {},
   "outputs": [
    {
     "data": {
      "text/plain": [
       "wage    30.823854\n",
       "dtype: float64"
      ]
     },
     "execution_count": 82,
     "metadata": {},
     "output_type": "execute_result"
    }
   ],
   "source": [
    "a.std(ddof=0) ### среднее квадратическое, проверка"
   ]
  },
  {
   "cell_type": "code",
   "execution_count": 83,
   "id": "e4a4de4e",
   "metadata": {},
   "outputs": [
    {
     "data": {
      "text/plain": [
       "950.11"
      ]
     },
     "execution_count": 83,
     "metadata": {},
     "output_type": "execute_result"
    }
   ],
   "source": [
    "### смещённая выборочная дисперсия\n",
    "result_disp = ((a['wage'] - a['wage'].mean()) ** 2).sum() / a['wage'].count()\n",
    "\n",
    "result_disp "
   ]
  },
  {
   "cell_type": "code",
   "execution_count": 84,
   "id": "5b489292",
   "metadata": {},
   "outputs": [
    {
     "data": {
      "text/plain": [
       "wage    950.11\n",
       "dtype: float64"
      ]
     },
     "execution_count": 84,
     "metadata": {},
     "output_type": "execute_result"
    }
   ],
   "source": [
    "a.var(ddof=0) ### смещённая выборочная дисперсия, проверка"
   ]
  },
  {
   "cell_type": "code",
   "execution_count": 85,
   "id": "a75de720",
   "metadata": {},
   "outputs": [
    {
     "data": {
      "text/plain": [
       "1000.1157894736842"
      ]
     },
     "execution_count": 85,
     "metadata": {},
     "output_type": "execute_result"
    }
   ],
   "source": [
    "### несмещённая выборочная дисперсия\n",
    "result_disp_1 = ((a['wage'] - a['wage'].mean()) ** 2).sum() / (a['wage'].count() - 1)\n",
    "\n",
    "result_disp_1 "
   ]
  },
  {
   "cell_type": "code",
   "execution_count": 86,
   "id": "56350d3a",
   "metadata": {},
   "outputs": [
    {
     "data": {
      "text/plain": [
       "wage    1000.115789\n",
       "dtype: float64"
      ]
     },
     "execution_count": 86,
     "metadata": {},
     "output_type": "execute_result"
    }
   ],
   "source": [
    "a.var(ddof=1) ### несмещённая выборочная дисперсия, проверка"
   ]
  },
  {
   "cell_type": "markdown",
   "id": "b9dbb276",
   "metadata": {},
   "source": [
    "### Задача № 2"
   ]
  },
  {
   "cell_type": "code",
   "execution_count": 102,
   "id": "a91c01be",
   "metadata": {},
   "outputs": [
    {
     "data": {
      "text/plain": [
       "67.5"
      ]
     },
     "execution_count": 102,
     "metadata": {},
     "output_type": "execute_result"
    }
   ],
   "source": [
    "### первый квантиль\n",
    "q1 = a['wage'].quantile(0.5) \n",
    "q1"
   ]
  },
  {
   "cell_type": "code",
   "execution_count": 103,
   "id": "da7e99bb",
   "metadata": {},
   "outputs": [
    {
     "data": {
      "text/plain": [
       "81.0"
      ]
     },
     "execution_count": 103,
     "metadata": {},
     "output_type": "execute_result"
    }
   ],
   "source": [
    "### третий квантиль\n",
    "q3 = a['wage'].quantile(0.75) \n",
    "q3"
   ]
  },
  {
   "cell_type": "code",
   "execution_count": 104,
   "id": "d30c6e9f",
   "metadata": {},
   "outputs": [
    {
     "data": {
      "text/plain": [
       "13.5"
      ]
     },
     "execution_count": 104,
     "metadata": {},
     "output_type": "execute_result"
    }
   ],
   "source": [
    "iqr = q3 - q1 ### интерквартильный размах\n",
    "iqr"
   ]
  },
  {
   "cell_type": "code",
   "execution_count": 105,
   "id": "09e1cbfd",
   "metadata": {},
   "outputs": [
    {
     "data": {
      "text/plain": [
       "<AxesSubplot:>"
      ]
     },
     "execution_count": 105,
     "metadata": {},
     "output_type": "execute_result"
    },
    {
     "data": {
      "image/png": "[encoded data removed]",
      "text/plain": [
       "<Figure size 432x288 with 1 Axes>"
      ]
     },
     "metadata": {
      "needs_background": "light"
     },
     "output_type": "display_data"
    }
   ],
   "source": [
    "a[['wage']].boxplot()"
   ]
  },
  {
   "cell_type": "code",
   "execution_count": 106,
   "id": "a19f0ec9",
   "metadata": {},
   "outputs": [
    {
     "data": {
      "text/plain": [
       "(47.25, 101.25)"
      ]
     },
     "execution_count": 106,
     "metadata": {},
     "output_type": "execute_result"
    }
   ],
   "source": [
    "boxplot_range = (q1 - 1.5 * iqr, q3 + 1.5 * iqr) ### диапазон значений\n",
    "boxplot_range"
   ]
  },
  {
   "cell_type": "code",
   "execution_count": 107,
   "id": "188d6141",
   "metadata": {},
   "outputs": [
    {
     "data": {
      "text/plain": [
       "7"
      ]
     },
     "execution_count": 107,
     "metadata": {},
     "output_type": "execute_result"
    }
   ],
   "source": [
    "outliers = a.loc[(a['wage'] < boxplot_range[0]) | (a['wage'] > boxplot_range[1])]\n",
    "\n",
    "outliers.shape[0]"
   ]
  },
  {
   "cell_type": "code",
   "execution_count": 108,
   "id": "f754f904",
   "metadata": {},
   "outputs": [
    {
     "data": {
      "text/plain": [
       "0.35"
      ]
     },
     "execution_count": 108,
     "metadata": {},
     "output_type": "execute_result"
    }
   ],
   "source": [
    "outliers.shape[0] / a.shape[0] ### доля выбросов"
   ]
  },
  {
   "cell_type": "markdown",
   "id": "50073a82",
   "metadata": {},
   "source": [
    "### Задача № 3"
   ]
  },
  {
   "cell_type": "code",
   "execution_count": 109,
   "id": "4ef92914",
   "metadata": {},
   "outputs": [
    {
     "data": {
      "text/plain": [
       "0.825"
      ]
     },
     "execution_count": 109,
     "metadata": {},
     "output_type": "execute_result"
    }
   ],
   "source": [
    "### т.к. С = А + В, если принять кол-во студентов на одном факультете за 1, \n",
    "### то на фак-те А общее кол-во студентов = 1, на В = 1, а на С = 1 + 1\n",
    "## 1/4 - вероятность того, что студент из факультета A(или B), вероятность того что студент из факультета C = 2/4\n",
    "\n",
    "A = 0.8\n",
    "B = 0.7\n",
    "C = 0.9\n",
    "p_a = 1/4 * A + 1/4 * B + 2/4 * C ### общая вероятность сдачи первой сессии\n",
    "\n",
    "p_a"
   ]
  },
  {
   "cell_type": "code",
   "execution_count": 111,
   "id": "1cea7ffa",
   "metadata": {},
   "outputs": [
    {
     "data": {
      "text/plain": [
       "0.24242424242424246"
      ]
     },
     "execution_count": 111,
     "metadata": {},
     "output_type": "execute_result"
    }
   ],
   "source": [
    "## вероятность того, что студент сдавший сессию учится на факультете А\n",
    "A_pass = (1/4 * A) / p_a\n",
    "A_pass"
   ]
  },
  {
   "cell_type": "code",
   "execution_count": 112,
   "id": "f0615da3",
   "metadata": {},
   "outputs": [
    {
     "data": {
      "text/plain": [
       "0.21212121212121213"
      ]
     },
     "execution_count": 112,
     "metadata": {},
     "output_type": "execute_result"
    }
   ],
   "source": [
    "## вероятность того, что студент сдавший сессию учится на факультете B\n",
    "B_pass = (1/4 * B) / p_a\n",
    "B_pass"
   ]
  },
  {
   "cell_type": "code",
   "execution_count": 113,
   "id": "6b52c070",
   "metadata": {},
   "outputs": [
    {
     "data": {
      "text/plain": [
       "0.5454545454545455"
      ]
     },
     "execution_count": 113,
     "metadata": {},
     "output_type": "execute_result"
    }
   ],
   "source": [
    "## вероятность того, что студент сдавший сессию учится на факультете C\n",
    "C_pass = (2/4 * C) / p_a\n",
    "C_pass"
   ]
  },
  {
   "cell_type": "code",
   "execution_count": null,
   "id": "d16a9bc1",
   "metadata": {},
   "outputs": [],
   "source": []
  }
 ],
 "metadata": {
  "kernelspec": {
   "display_name": "Python 3",
   "language": "python",
   "name": "python3"
  },
  "language_info": {
   "codemirror_mode": {
    "name": "ipython",
    "version": 3
   },
   "file_extension": ".py",
   "mimetype": "text/x-python",
   "name": "python",
   "nbconvert_exporter": "python",
   "pygments_lexer": "ipython3",
   "version": "3.9.0"
  }
 },
 "nbformat": 4,
 "nbformat_minor": 5
}
