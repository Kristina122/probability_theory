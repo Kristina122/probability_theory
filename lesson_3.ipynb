{
 "cells": [
  {
   "cell_type": "code",
   "execution_count": 2,
   "id": "12cdea63",
   "metadata": {},
   "outputs": [],
   "source": [
    "import numpy as np\n",
    "import pandas as pd"
   ]
  },
  {
   "cell_type": "markdown",
   "id": "937c4417",
   "metadata": {},
   "source": [
    "#### Задание 1"
   ]
  },
  {
   "cell_type": "markdown",
   "id": "c29cf2e1",
   "metadata": {},
   "source": [
    "Используя только встроенные питоновские функции и структуры данных (т.е. без библиотек numpy, pandas и др.), посчитайте (несмещённое) среднее квадратичное отклонение для данной выборки."
   ]
  },
  {
   "cell_type": "code",
   "execution_count": 21,
   "id": "a90ac900",
   "metadata": {},
   "outputs": [
    {
     "data": {
      "text/plain": [
       "73.14285714"
      ]
     },
     "execution_count": 21,
     "metadata": {},
     "output_type": "execute_result"
    }
   ],
   "source": [
    "a = pd.DataFrame([100, 80, 75, 77, 89, 33, 45, 25, 65, 17, 30, 230, 24, 57, 55, 70, 75, 65, 84, 90, 150], columns=['wage'])\n",
    "\n",
    "mean_wage = a['wage'].sum()/a['wage'].count() ### среднее арифметическое\n",
    "\n",
    "round(mean_wage, 8)"
   ]
  },
  {
   "cell_type": "code",
   "execution_count": 22,
   "id": "dfd54693",
   "metadata": {},
   "outputs": [
    {
     "data": {
      "text/plain": [
       "47.34795214"
      ]
     },
     "execution_count": 22,
     "metadata": {},
     "output_type": "execute_result"
    }
   ],
   "source": [
    "### среднее квадратическое\n",
    "result_std = np.sqrt(((a['wage'] - mean_wage) ** 2).sum() / (a['wage'].count() - 1))\n",
    "\n",
    "round(result_std, 8)"
   ]
  },
  {
   "cell_type": "markdown",
   "id": "ce087913",
   "metadata": {},
   "source": [
    "#### Задание 2"
   ]
  },
  {
   "cell_type": "markdown",
   "id": "7561a622",
   "metadata": {},
   "source": [
    "Найдите число выбросов в выборке из задачи 1. Для определения выбросов используйте методику как при построении “усов” в boxplot, однако, как и в задаче 1, пользоваться можно только встроенными функциями и структурами данных."
   ]
  },
  {
   "cell_type": "code",
   "execution_count": 23,
   "id": "e52527d7",
   "metadata": {},
   "outputs": [
    {
     "data": {
      "text/plain": [
       "21"
      ]
     },
     "execution_count": 23,
     "metadata": {},
     "output_type": "execute_result"
    }
   ],
   "source": [
    "len(a)"
   ]
  },
  {
   "cell_type": "code",
   "execution_count": 28,
   "id": "40c35959",
   "metadata": {},
   "outputs": [
    {
     "data": {
      "text/plain": [
       "45"
      ]
     },
     "execution_count": 28,
     "metadata": {},
     "output_type": "execute_result"
    }
   ],
   "source": [
    "height = sorted(a['wage'])\n",
    "q1 = height[len(a) // 4]\n",
    "q1"
   ]
  },
  {
   "cell_type": "code",
   "execution_count": 29,
   "id": "4530d73a",
   "metadata": {},
   "outputs": [
    {
     "data": {
      "text/plain": [
       "84"
      ]
     },
     "execution_count": 29,
     "metadata": {},
     "output_type": "execute_result"
    }
   ],
   "source": [
    "q3 = height[3 * len(a) // 4]\n",
    "q3"
   ]
  },
  {
   "cell_type": "code",
   "execution_count": 35,
   "id": "d524b9a1",
   "metadata": {},
   "outputs": [
    {
     "data": {
      "text/plain": [
       "39"
      ]
     },
     "execution_count": 35,
     "metadata": {},
     "output_type": "execute_result"
    }
   ],
   "source": [
    "iqr = q3 - q1 ### интерквартильный размах\n",
    "iqr"
   ]
  },
  {
   "cell_type": "code",
   "execution_count": 36,
   "id": "f5069d6d",
   "metadata": {},
   "outputs": [
    {
     "data": {
      "text/plain": [
       "(-13.5, 142.5)"
      ]
     },
     "execution_count": 36,
     "metadata": {},
     "output_type": "execute_result"
    }
   ],
   "source": [
    "boxplot_range = (q1 - 1.5 * iqr, q3 + 1.5 * iqr) ### диапазон значений\n",
    "boxplot_range"
   ]
  },
  {
   "cell_type": "code",
   "execution_count": 39,
   "id": "30fe1c56",
   "metadata": {},
   "outputs": [
    {
     "name": "stdout",
     "output_type": "stream",
     "text": [
      "Количество выбросов: 2\n"
     ]
    }
   ],
   "source": [
    "outliers = a.loc[(a['wage'] < boxplot_range[0]) | (a['wage'] > boxplot_range[1])]\n",
    "\n",
    "print('Количество выбросов:', outliers.shape[0])"
   ]
  },
  {
   "cell_type": "markdown",
   "id": "fcd3572c",
   "metadata": {},
   "source": [
    "#### Задание 3"
   ]
  },
  {
   "cell_type": "markdown",
   "id": "0c9bc305",
   "metadata": {},
   "source": [
    "В университет на факультет A поступило 100 человек, на факультет B - 90 человек и на факультет C - 45 человек. Вероятность того, что студент с факультета A сдаст первую сессию, равна 0.6. Для студента с факультета B эта вероятность равна 0.7, а для студента с факультета C - 0.8. Случайным образом выбирается студент, сдавший первую сессию. Какое событие наиболее вероятно:\n",
    "1) студент учится на факультете A,\n",
    "2) студент учится на факультете B,\n",
    "3) студент учится на факультете C?\n"
   ]
  },
  {
   "cell_type": "code",
   "execution_count": 40,
   "id": "c4ce9fb4",
   "metadata": {},
   "outputs": [
    {
     "data": {
      "text/plain": [
       "0.676595744680851"
      ]
     },
     "execution_count": 40,
     "metadata": {},
     "output_type": "execute_result"
    }
   ],
   "source": [
    "total = 100 + 90 + 45\n",
    "\n",
    "A = 0.6\n",
    "B = 0.7\n",
    "C = 0.8\n",
    "p_a = (100/total) * A + (90/total) * B + (45/total) * C ### общая вероятность сдачи первой сессии\n",
    "\n",
    "p_a"
   ]
  },
  {
   "cell_type": "code",
   "execution_count": 45,
   "id": "5b40547b",
   "metadata": {},
   "outputs": [
    {
     "data": {
      "text/plain": [
       "0.3774"
      ]
     },
     "execution_count": 45,
     "metadata": {},
     "output_type": "execute_result"
    }
   ],
   "source": [
    "# используем формулу Байеса\n",
    "## вероятность того, что студент сдавший сессию учится на факультете А\n",
    "A_pass = ((100/total) * A) / p_a\n",
    "round(A_pass, 4)"
   ]
  },
  {
   "cell_type": "code",
   "execution_count": 46,
   "id": "ea1b06a3",
   "metadata": {},
   "outputs": [
    {
     "data": {
      "text/plain": [
       "0.3962"
      ]
     },
     "execution_count": 46,
     "metadata": {},
     "output_type": "execute_result"
    }
   ],
   "source": [
    "## вероятность того, что студент сдавший сессию учится на факультете B\n",
    "B_pass = ((90/total) * B) / p_a\n",
    "round(B_pass, 4)"
   ]
  },
  {
   "cell_type": "code",
   "execution_count": 48,
   "id": "08faf41e",
   "metadata": {},
   "outputs": [
    {
     "data": {
      "text/plain": [
       "0.2264"
      ]
     },
     "execution_count": 48,
     "metadata": {},
     "output_type": "execute_result"
    }
   ],
   "source": [
    "## вероятность того, что студент сдавший сессию учится на факультете C\n",
    "C_pass = ((45/total) * C) / p_a\n",
    "round(C_pass, 4)"
   ]
  },
  {
   "cell_type": "markdown",
   "id": "851d4436",
   "metadata": {},
   "source": [
    "Наиболее вероятно, что случайным образом выбранный студент, сдавший первую сессию, учится на факультете B"
   ]
  },
  {
   "cell_type": "code",
   "execution_count": null,
   "id": "58f123f2",
   "metadata": {},
   "outputs": [],
   "source": []
  }
 ],
 "metadata": {
  "kernelspec": {
   "display_name": "Python 3",
   "language": "python",
   "name": "python3"
  },
  "language_info": {
   "codemirror_mode": {
    "name": "ipython",
    "version": 3
   },
   "file_extension": ".py",
   "mimetype": "text/x-python",
   "name": "python",
   "nbconvert_exporter": "python",
   "pygments_lexer": "ipython3",
   "version": "3.9.0"
  }
 },
 "nbformat": 4,
 "nbformat_minor": 5
}
