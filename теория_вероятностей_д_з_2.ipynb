{
 "cells": [
  {
   "cell_type": "code",
   "execution_count": 1,
   "id": "f5ddcc68",
   "metadata": {},
   "outputs": [],
   "source": [
    "import numpy as np\n",
    "\n",
    "from math import factorial"
   ]
  },
  {
   "cell_type": "markdown",
   "id": "f8405830",
   "metadata": {},
   "source": [
    "### Задача № 1"
   ]
  },
  {
   "cell_type": "code",
   "execution_count": 2,
   "id": "1abc49cd",
   "metadata": {},
   "outputs": [],
   "source": [
    "n = 5 ## число вопросов\n",
    "p = 1/4 ## вероятность угадать ответ\n",
    "q = 1 - p"
   ]
  },
  {
   "cell_type": "code",
   "execution_count": 3,
   "id": "b0fa06cd",
   "metadata": {},
   "outputs": [
    {
     "name": "stdout",
     "output_type": "stream",
     "text": [
      "[0, 1, 2, 3, 4, 5]\n",
      "[0.237, 0.396, 0.264, 0.088, 0.015, 0.001]\n"
     ]
    }
   ],
   "source": [
    "def probabilities(x):\n",
    "    return ((factorial(n) / (factorial(x) * factorial(n - x))) * (q**(n-x)) * p**x)\n",
    "\n",
    "a = [0, 1, 2, 3, 4, 5]\n",
    "my_list = []\n",
    "\n",
    "for i in a:\n",
    "    my_list.append(round(probabilities(i), 3))\n",
    "    \n",
    "print(a)\n",
    "print(my_list)\n",
    "    "
   ]
  },
  {
   "cell_type": "code",
   "execution_count": 4,
   "id": "a9838983",
   "metadata": {},
   "outputs": [
    {
     "name": "stdout",
     "output_type": "stream",
     "text": [
      "1.25 - математическое ожидание\n",
      "0.9375 - дисперсия\n"
     ]
    }
   ],
   "source": [
    "M_x = n * p\n",
    "\n",
    "D_x = n * p * q\n",
    "\n",
    "print(M_x, \"- математическое ожидание\")\n",
    "print(D_x, \"- дисперсия\")"
   ]
  },
  {
   "cell_type": "markdown",
   "id": "084248ac",
   "metadata": {},
   "source": [
    "### Задача № 2"
   ]
  },
  {
   "cell_type": "code",
   "execution_count": 5,
   "id": "3abe77bb",
   "metadata": {},
   "outputs": [
    {
     "name": "stdout",
     "output_type": "stream",
     "text": [
      "0.053 - вероятность того, что число пойманных рыб при 200 забросах удочки будет не менее 5 и не более 10\n"
     ]
    }
   ],
   "source": [
    "n = 200\n",
    "p = 0.01\n",
    "\n",
    "lambda_ = n*p\n",
    "\n",
    "def poisson_proba(k, lambda_):\n",
    "    return (lambda_ ** k) * (np.exp(-lambda_)) / np.math.factorial(k)\n",
    "\n",
    "\n",
    "sum_p = sum(poisson_proba(k=i, lambda_=lambda_) for i in range(5, 11))\n",
    "print(round(sum_p, 3), '- вероятность того, что число пойманных рыб при 200 забросах удочки будет не менее 5 и не более 10')"
   ]
  },
  {
   "cell_type": "markdown",
   "id": "ed874396",
   "metadata": {},
   "source": [
    "### Задача № 3"
   ]
  },
  {
   "cell_type": "code",
   "execution_count": 6,
   "id": "148997ff",
   "metadata": {},
   "outputs": [
    {
     "name": "stdout",
     "output_type": "stream",
     "text": [
      "0.9001760722984115 1421\n"
     ]
    }
   ],
   "source": [
    "n = 10 ## число забросов удочки\n",
    "p_one = 0.01 ## Вероятность поймать рыбу при одном забрасывании удочки\n",
    "m = 10\n",
    "p = 0\n",
    "\n",
    "def combinations(m, a):\n",
    "    return ((a ** m) / np.math.factorial(m)) * (np.math.exp(-a))\n",
    "\n",
    "while p < 0.9:\n",
    "    n += 1\n",
    "    l = n * 0.01\n",
    "    p = 1 - sum(combinations(m=i, a=l) for i in range(m))\n",
    "\n",
    "print(p, n)\n"
   ]
  }
 ],
 "metadata": {
  "kernelspec": {
   "display_name": "Python 3",
   "language": "python",
   "name": "python3"
  },
  "language_info": {
   "codemirror_mode": {
    "name": "ipython",
    "version": 3
   },
   "file_extension": ".py",
   "mimetype": "text/x-python",
   "name": "python",
   "nbconvert_exporter": "python",
   "pygments_lexer": "ipython3",
   "version": "3.9.0"
  }
 },
 "nbformat": 4,
 "nbformat_minor": 5
}
