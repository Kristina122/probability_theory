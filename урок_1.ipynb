{
 "cells": [
  {
   "cell_type": "code",
   "execution_count": 1,
   "id": "7c277d26",
   "metadata": {},
   "outputs": [],
   "source": [
    "import numpy as np\n",
    "\n",
    "from math import factorial"
   ]
  },
  {
   "cell_type": "markdown",
   "id": "934eaef5",
   "metadata": {},
   "source": [
    "### Задание 1"
   ]
  },
  {
   "cell_type": "markdown",
   "id": "ff0dc05f",
   "metadata": {},
   "source": [
    "Имеется колода в 52 карты. Найти число возможностей вытянуть из неё 4 карты так, чтобы среди них был хотя бы один туз."
   ]
  },
  {
   "cell_type": "code",
   "execution_count": 3,
   "id": "0fb93247",
   "metadata": {},
   "outputs": [],
   "source": [
    "def combinations(n, k):\n",
    "    return int(factorial(n) / (factorial(k) * factorial(n - k)))"
   ]
  },
  {
   "cell_type": "code",
   "execution_count": 4,
   "id": "93c885dd",
   "metadata": {},
   "outputs": [
    {
     "name": "stdout",
     "output_type": "stream",
     "text": [
      "69184 6768 192 1\n"
     ]
    }
   ],
   "source": [
    "a = combinations(4, 1) * combinations(48, 3) ### число исходов, когда выбирается 1 туз из 4-х\n",
    "b = combinations(4, 2) * combinations(48, 2) ### число исходов, когда выбирается 2 туза из 4-х\n",
    "c = combinations(4, 3) * combinations(48, 1) ### число исходов, когда выбирается 3 туза из 4-х\n",
    "d = combinations(4, 4) * combinations(48, 0) ### выбрали все 4 туза\n",
    "\n",
    "print(a, b, c, d)"
   ]
  },
  {
   "cell_type": "code",
   "execution_count": 5,
   "id": "8e92d721",
   "metadata": {},
   "outputs": [
    {
     "name": "stdout",
     "output_type": "stream",
     "text": [
      "76145 - число исходов, соответствующих тому, что был вытянут хотя бы один туз\n"
     ]
    }
   ],
   "source": [
    "total = sum((a, b, c, d))\n",
    "\n",
    "print(total, \"- число исходов, соответствующих тому, что был вытянут хотя бы один туз\")"
   ]
  },
  {
   "cell_type": "markdown",
   "id": "d979cc2b",
   "metadata": {},
   "source": [
    "### Задание 2"
   ]
  },
  {
   "cell_type": "markdown",
   "id": "f9732072",
   "metadata": {},
   "source": [
    "Из 60 вопросов, входящих в экзаменационные билеты, студент знает 50. Случайным образом студент вытягивает 3 вопроса. Какова вероятность, что все выбранные вопросы знакомы студенту? Какова вероятность что два из трёх вопросов знакомы студенту?"
   ]
  },
  {
   "cell_type": "code",
   "execution_count": 6,
   "id": "452111da",
   "metadata": {},
   "outputs": [
    {
     "name": "stdout",
     "output_type": "stream",
     "text": [
      "34220 19600 12250\n"
     ]
    }
   ],
   "source": [
    "t = combinations(60, 3) ### количество способов вытянуть 3 вопроса\n",
    "three = combinations(50, 3) ###  количество способов вытянуть 3 вопроса из 50 выученных\n",
    "two = (combinations(50, 2) * combinations(10, 1)) ### количество способов вытянуть 2 вопроса из 50 выученных и 1 невыученный\n",
    "\n",
    "print(t, three, two)"
   ]
  },
  {
   "cell_type": "code",
   "execution_count": 7,
   "id": "3b01daeb",
   "metadata": {},
   "outputs": [
    {
     "name": "stdout",
     "output_type": "stream",
     "text": [
      "0.573 - вероятность того, что среди трёх наугад выбранных вопросов студент знает все\n"
     ]
    }
   ],
   "source": [
    "p_three = three/t\n",
    "print(round(p_three, 3), \"- вероятность того, что среди трёх наугад выбранных вопросов студент знает все\")"
   ]
  },
  {
   "cell_type": "code",
   "execution_count": 8,
   "id": "bd8e2f82",
   "metadata": {},
   "outputs": [
    {
     "name": "stdout",
     "output_type": "stream",
     "text": [
      "0.358 - вероятность того, что среди трёх наугад выбранных вопросов студент знает два\n"
     ]
    }
   ],
   "source": [
    "p_second = two/t\n",
    "print(round(p_second, 3), \"- вероятность того, что среди трёх наугад выбранных вопросов студент знает два\")"
   ]
  },
  {
   "cell_type": "markdown",
   "id": "ff8d3f4b",
   "metadata": {},
   "source": [
    "### Задание 3"
   ]
  },
  {
   "cell_type": "markdown",
   "id": "70a4a16a",
   "metadata": {},
   "source": [
    "Допустим, имеется некоторая очень редкая болезнь (поражает 0.1% населения). Вы приходите к врачу, вам делают тест на эту болезнь, и тест оказывается положительным. Врач говорит вам, что этот тест верно выявляет 99% больных этой болезнью и всего лишь в 1% случаев даёт ложный положительный ответ.\n",
    "\n",
    "Вопрос: какова вероятность, что вы действительно больны ей?\n",
    "\n",
    "Подсказка: используйте формулу Байеса с раскрытием знаменателя с помощью формулы полной вероятности."
   ]
  },
  {
   "cell_type": "code",
   "execution_count": 18,
   "id": "91f28261",
   "metadata": {},
   "outputs": [
    {
     "data": {
      "text/plain": [
       "0.01098"
      ]
     },
     "execution_count": 18,
     "metadata": {},
     "output_type": "execute_result"
    }
   ],
   "source": [
    "## A - болен/ не болен, B - результат теста\n",
    "\n",
    "p_B_A1 = 0.99 ## вероятность того, что действительно болен при + тесте\n",
    "p_B_A2 = 0.01 # вероятность ложно-положительного ответа \n",
    "p_A1 = 0.001 # вероятность заболеть\n",
    "p_A2 = 0.999\n",
    "\n",
    "p_B = p_A1 * p_B_A1 + p_A2 * p_B_A2\n",
    "p_B"
   ]
  },
  {
   "cell_type": "code",
   "execution_count": 19,
   "id": "22dd46a6",
   "metadata": {},
   "outputs": [
    {
     "name": "stdout",
     "output_type": "stream",
     "text": [
      "0.0902 - вероятность того, что пациент действительно болен при положительном тесте\n"
     ]
    }
   ],
   "source": [
    "p_A_B = (p_B_A1 * p_A1) / p_B\n",
    "\n",
    "print(round(p_A_B, 4), '- вероятность того, что пациент действительно болен при положительном тесте')"
   ]
  },
  {
   "cell_type": "code",
   "execution_count": null,
   "id": "6bf6c2a5",
   "metadata": {},
   "outputs": [],
   "source": []
  }
 ],
 "metadata": {
  "kernelspec": {
   "display_name": "Python 3",
   "language": "python",
   "name": "python3"
  },
  "language_info": {
   "codemirror_mode": {
    "name": "ipython",
    "version": 3
   },
   "file_extension": ".py",
   "mimetype": "text/x-python",
   "name": "python",
   "nbconvert_exporter": "python",
   "pygments_lexer": "ipython3",
   "version": "3.9.0"
  }
 },
 "nbformat": 4,
 "nbformat_minor": 5
}
