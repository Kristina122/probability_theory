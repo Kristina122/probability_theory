{
 "cells": [
  {
   "cell_type": "code",
   "execution_count": 2,
   "id": "9d5ea951",
   "metadata": {},
   "outputs": [],
   "source": [
    "import numpy as np\n",
    "\n",
    "from math import factorial"
   ]
  },
  {
   "cell_type": "markdown",
   "id": "ebf3863b",
   "metadata": {},
   "source": [
    "#### Задача 1.\n",
    "Группа студентов изучает 10 различных дисциплин. Сколькими способами можно составить расписание на понедельник, если в этот день должно быть 4 разных занятия?"
   ]
  },
  {
   "cell_type": "code",
   "execution_count": 4,
   "id": "dcf05c44",
   "metadata": {},
   "outputs": [
    {
     "data": {
      "text/plain": [
       "210"
      ]
     },
     "execution_count": 4,
     "metadata": {},
     "output_type": "execute_result"
    }
   ],
   "source": [
    "def combinations(n, k):\n",
    "    return int(factorial(n) / (factorial(k) * factorial(n - k)))\n",
    "\n",
    "combinations(10, 4)"
   ]
  },
  {
   "cell_type": "markdown",
   "id": "f61747c9",
   "metadata": {},
   "source": [
    "#### Задача 2\n",
    "Из колоды в 52 карты вынимают случайным образом 4 карты. Найти число исходов, соответствующих тому, что был вытянут хотя бы один туз."
   ]
  },
  {
   "cell_type": "code",
   "execution_count": 7,
   "id": "f699ae5c",
   "metadata": {},
   "outputs": [
    {
     "name": "stdout",
     "output_type": "stream",
     "text": [
      "69184 6768 192 1\n"
     ]
    }
   ],
   "source": [
    "a = combinations(4, 1) * combinations(48, 3) ### число исходов, когда выбирается 1 туз из 4-х\n",
    "b = combinations(4, 2) * combinations(48, 2) ### число исходов, когда выбирается 2 туза из 4-х\n",
    "c = combinations(4, 3) * combinations(48, 1) ### число исходов, когда выбирается 3 туза из 4-х\n",
    "d = combinations(4, 4) * combinations(48, 0) ### выбрали все 4 туза\n",
    "\n",
    "print(a, b, c, d)"
   ]
  },
  {
   "cell_type": "code",
   "execution_count": 11,
   "id": "360de203",
   "metadata": {},
   "outputs": [
    {
     "name": "stdout",
     "output_type": "stream",
     "text": [
      "76145 - число исходов, соответствующих тому, что был вытянут хотя бы один туз\n"
     ]
    }
   ],
   "source": [
    "total = sum((a, b, c, d))\n",
    "\n",
    "print(total, \"- число исходов, соответствующих тому, что был вытянут хотя бы один туз\")"
   ]
  },
  {
   "cell_type": "markdown",
   "id": "8d47aef4",
   "metadata": {},
   "source": [
    "#### Задача 3\n",
    "Семь человек рассаживаются наудачу на скамейке. Какова вероятность того, что два определённых человека будут сидеть рядом?"
   ]
  },
  {
   "cell_type": "code",
   "execution_count": 13,
   "id": "f9d23770",
   "metadata": {},
   "outputs": [
    {
     "name": "stdout",
     "output_type": "stream",
     "text": [
      "0.286 - вероятность того, что два определённых человека будут сидеть рядом\n"
     ]
    }
   ],
   "source": [
    "seat = 6 ### 1 пара может занять 6 пар разных мест;\n",
    "\n",
    "n = int(factorial(2)) ### число перестановок (рассадки) пары;\n",
    "e = int(factorial(5)) ### число перестановки (рассадки) остальных людей (7-2);\n",
    "t = int(factorial(7)) ### общее число рассадки\n",
    "\n",
    "p = (seat * n * e)/t\n",
    "\n",
    "print(round(p, 3), \"- вероятность того, что два определённых человека будут сидеть рядом\")"
   ]
  },
  {
   "cell_type": "markdown",
   "id": "23a27037",
   "metadata": {},
   "source": [
    "#### Задача 4\n",
    "Из 60 вопросов, входящих в экзаменационные билеты, студент знает 50. Какова вероятность того, что среди трёх наугад выбранных вопросов студент знает: а) все? б) два?"
   ]
  },
  {
   "cell_type": "code",
   "execution_count": 18,
   "id": "f02eba17",
   "metadata": {},
   "outputs": [
    {
     "name": "stdout",
     "output_type": "stream",
     "text": [
      "34220 19600 12250\n"
     ]
    }
   ],
   "source": [
    "t = combinations(60, 3) ### количество способов вытянуть 3 вопроса\n",
    "three = combinations(50, 3) ###  количество способов вытянуть 3 вопроса из 50 выученных\n",
    "two = (combinations(50, 2) * combinations(10, 1)) ### количество способов вытянуть 2 вопроса из 50 выученных и 1 невыученный\n",
    "\n",
    "print(t, three, two)"
   ]
  },
  {
   "cell_type": "code",
   "execution_count": 29,
   "id": "831ce6ab",
   "metadata": {},
   "outputs": [
    {
     "name": "stdout",
     "output_type": "stream",
     "text": [
      "0.573 - вероятность того, что среди трёх наугад выбранных вопросов студент знает все\n"
     ]
    }
   ],
   "source": [
    "p_three = three/t\n",
    "print(round(p_three, 3), \"- вероятность того, что среди трёх наугад выбранных вопросов студент знает все\")"
   ]
  },
  {
   "cell_type": "code",
   "execution_count": 31,
   "id": "4bab8993",
   "metadata": {},
   "outputs": [
    {
     "name": "stdout",
     "output_type": "stream",
     "text": [
      "0.358 - вероятность того, что среди трёх наугад выбранных вопросов студент знает два\n"
     ]
    }
   ],
   "source": [
    "p_second = two/t\n",
    "print(round(p_second, 3), \"- вероятность того, что среди трёх наугад выбранных вопросов студент знает два\")"
   ]
  },
  {
   "cell_type": "markdown",
   "id": "cc897571",
   "metadata": {},
   "source": [
    "#### Задача 5\n",
    "Бросается игральная кость. Пусть событие A - появление чётного числа, событие B - появление числа больше трёх. Являются ли эти события независимыми?"
   ]
  },
  {
   "cell_type": "code",
   "execution_count": 33,
   "id": "60cb78dc",
   "metadata": {},
   "outputs": [
    {
     "name": "stdout",
     "output_type": "stream",
     "text": [
      "0.5 - вероятность выпадения чётного числа\n",
      "0.5 - вероятность выпадения числа больше трёх\n"
     ]
    }
   ],
   "source": [
    "A = (1/6) * 3\n",
    "B = (1/6) * 3 ### вероятность выпадения числа больше трёх\n",
    "\n",
    "print(A, \"- вероятность выпадения чётного числа\")\n",
    "print(B, \"- вероятность выпадения числа больше трёх\")"
   ]
  },
  {
   "cell_type": "code",
   "execution_count": 37,
   "id": "bd7a34fb",
   "metadata": {},
   "outputs": [
    {
     "name": "stdout",
     "output_type": "stream",
     "text": [
      "0.667 - вероятность того, что число чётное, при условии, что оно больше трёх\n",
      "0.667 - вероятность того, что число больше трёхб при условии, что оно чётное\n"
     ]
    }
   ],
   "source": [
    "p_A_B = 2/3\n",
    "p_B_A = 2/3\n",
    "\n",
    "print(round(p_A_B, 3), \"- вероятность того, что число чётное, при условии, что оно больше трёх\")\n",
    "print(round(p_B_A, 3), \"- вероятность того, что число больше трёх при условии, что оно чётное\")"
   ]
  },
  {
   "cell_type": "markdown",
   "id": "33fecdcf",
   "metadata": {},
   "source": [
    "Вывод по 5-ой задаче: т.к. наступление одного из событий (A или B) изменяет вероятность наступления другого события (B или A соответственно), то данные события являются зависимыми."
   ]
  },
  {
   "cell_type": "code",
   "execution_count": null,
   "id": "4dd74f64",
   "metadata": {},
   "outputs": [],
   "source": []
  }
 ],
 "metadata": {
  "kernelspec": {
   "display_name": "Python 3",
   "language": "python",
   "name": "python3"
  },
  "language_info": {
   "codemirror_mode": {
    "name": "ipython",
    "version": 3
   },
   "file_extension": ".py",
   "mimetype": "text/x-python",
   "name": "python",
   "nbconvert_exporter": "python",
   "pygments_lexer": "ipython3",
   "version": "3.9.0"
  }
 },
 "nbformat": 4,
 "nbformat_minor": 5
}
