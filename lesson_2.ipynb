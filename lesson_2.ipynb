{
 "cells": [
  {
   "cell_type": "code",
   "execution_count": 15,
   "id": "fba2d78c",
   "metadata": {},
   "outputs": [],
   "source": [
    "import numpy as np\n",
    "\n",
    "from math import factorial"
   ]
  },
  {
   "cell_type": "markdown",
   "id": "cb7cd383",
   "metadata": {},
   "source": [
    "### Задача 1, 2"
   ]
  },
  {
   "cell_type": "code",
   "execution_count": 2,
   "id": "2608c929",
   "metadata": {},
   "outputs": [],
   "source": [
    "n = 5 ## число вопросов\n",
    "p = 1/4 ## вероятность угадать ответ\n",
    "q = 1 - p"
   ]
  },
  {
   "cell_type": "code",
   "execution_count": 3,
   "id": "ee242a79",
   "metadata": {},
   "outputs": [
    {
     "name": "stdout",
     "output_type": "stream",
     "text": [
      "[0, 1, 2, 3, 4, 5]\n",
      "[0.237, 0.396, 0.264, 0.088, 0.015, 0.001]\n"
     ]
    }
   ],
   "source": [
    "def probabilities(x):\n",
    "    return ((factorial(n) / (factorial(x) * factorial(n - x))) * (q**(n-x)) * p**x)\n",
    "\n",
    "a = [0, 1, 2, 3, 4, 5]\n",
    "my_list = []\n",
    "\n",
    "for i in a:\n",
    "    my_list.append(round(probabilities(i), 3))\n",
    "    \n",
    "print(a)\n",
    "print(my_list)"
   ]
  },
  {
   "cell_type": "code",
   "execution_count": 4,
   "id": "644c3d23",
   "metadata": {},
   "outputs": [
    {
     "name": "stdout",
     "output_type": "stream",
     "text": [
      "1.25 - математическое ожидание\n",
      "0.9375 - дисперсия\n"
     ]
    }
   ],
   "source": [
    "M_x = n * p\n",
    "\n",
    "D_x = n * p * q\n",
    "\n",
    "print(M_x, \"- математическое ожидание\")\n",
    "print(D_x, \"- дисперсия\")"
   ]
  },
  {
   "cell_type": "markdown",
   "id": "01c7d738",
   "metadata": {},
   "source": [
    "### Задача 3"
   ]
  },
  {
   "cell_type": "code",
   "execution_count": 13,
   "id": "6cd69917",
   "metadata": {},
   "outputs": [
    {
     "name": "stdout",
     "output_type": "stream",
     "text": [
      "0.9512595966960214 15\n"
     ]
    }
   ],
   "source": [
    "p = 0\n",
    "lambda_ = 10\n",
    "k = 0\n",
    "\n",
    "while p < 0.95:\n",
    "    p += (lambda_ ** k) * (np.exp(-lambda_)) / np.math.factorial(k)\n",
    "    k += 1\n",
    "    \n",
    "print(p, k-1)"
   ]
  },
  {
   "cell_type": "markdown",
   "id": "fecd880b",
   "metadata": {},
   "source": [
    "### Задача 4"
   ]
  },
  {
   "cell_type": "code",
   "execution_count": 18,
   "id": "c73172b5",
   "metadata": {},
   "outputs": [],
   "source": [
    "def combinations(n, k):\n",
    "    return np.math.factorial(n) // (np.math.factorial(k) * np.math.factorial(n - k))\n",
    "\n",
    "\n",
    "def bn(n, k, p):\n",
    "    return combinations(n, k) * (p ** k) * ((1 - p) ** (n - k))\n",
    "\n",
    "def bn_ob(n, k, p):\n",
    "    return 1 - sum(bn(n, i, p) for i in range(k))\n"
   ]
  },
  {
   "cell_type": "code",
   "execution_count": 19,
   "id": "25e21c00",
   "metadata": {},
   "outputs": [
    {
     "name": "stdout",
     "output_type": "stream",
     "text": [
      "926 0.9003627121531355\n"
     ]
    }
   ],
   "source": [
    "p = 0.01\n",
    "k = 6\n",
    "n = 6\n",
    "b = 0\n",
    "\n",
    "while b < 0.9:\n",
    "    n += 1\n",
    "    b = bn_ob(n, k, p)\n",
    "    \n",
    "print(n, b)"
   ]
  },
  {
   "cell_type": "code",
   "execution_count": null,
   "id": "a767c8c0",
   "metadata": {},
   "outputs": [],
   "source": []
  }
 ],
 "metadata": {
  "kernelspec": {
   "display_name": "Python 3",
   "language": "python",
   "name": "python3"
  },
  "language_info": {
   "codemirror_mode": {
    "name": "ipython",
    "version": 3
   },
   "file_extension": ".py",
   "mimetype": "text/x-python",
   "name": "python",
   "nbconvert_exporter": "python",
   "pygments_lexer": "ipython3",
   "version": "3.9.0"
  }
 },
 "nbformat": 4,
 "nbformat_minor": 5
}
