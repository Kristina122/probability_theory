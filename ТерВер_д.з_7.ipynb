{
 "cells": [
  {
   "cell_type": "code",
   "execution_count": 139,
   "id": "fbfeb488",
   "metadata": {},
   "outputs": [],
   "source": [
    "import numpy as np\n",
    "import pandas as pd\n",
    "import statsmodels.api as sm\n",
    "\n",
    "from scipy import stats"
   ]
  },
  {
   "cell_type": "markdown",
   "id": "7b067883",
   "metadata": {},
   "source": [
    "### Задача № 1"
   ]
  },
  {
   "cell_type": "code",
   "execution_count": 146,
   "id": "b8aacefd",
   "metadata": {},
   "outputs": [],
   "source": [
    "X = [[ 1.22401313, 2.30868478, 3.03636353, 2.69287214],\n",
    "[-0.18757272, 1.30337355, 5.12093014, 3.46363202],\n",
    "[-0.81094525, 1.82463398, 5.79686488, 1.86159445],\n",
    "[ 0.75129018, 2.67392052, 3.65529809, 1.66746094],\n",
    "[ 0.00972362, 1.97367255, 2.50594319, 1.69755173],\n",
    "[-0.62972637, 0.77750764, 2.84124027, 4.54410559],\n",
    "[ 2.29536229, 1.81206697, 1.95026215, 1.51874636],\n",
    "[ 0.0920418 , 2.26971361, 7.47708735, 2.61081203],\n",
    "[ 2.39252799, 3.17563985, 3.61420599, 5.10773362],\n",
    "[ 0.54983815, 2.87988651, 1.65752765, 1.59635987]]\n",
    "\n",
    "df = pd.DataFrame(X).rename({0:'X1', 1:'X2', 2:'X3', 3:'X4'}, axis='columns')\n",
    "\n",
    "y = np.array([ 9.26193358, 9.700363 , 8.67214805, 8.74796974, 6.18689108,\n",
    "7.53312713, 7.57643777, 12.44965478, 14.29010746, 6.68361218])"
   ]
  },
  {
   "cell_type": "code",
   "execution_count": 147,
   "id": "93a61762",
   "metadata": {},
   "outputs": [
    {
     "name": "stdout",
     "output_type": "stream",
     "text": [
      "При X1 & X2 R2 = 0.181\n",
      "При X1 & X3 R2 = 0.763\n",
      "При X1 & X4 R2 = 0.453\n",
      "При X2 & X3 R2 = 0.548\n",
      "При X2 & X4 R2 = 0.606\n",
      "При X3 & X4 R2 = 0.622\n",
      "Наилучший результат при X1&X3 , R2 =  0.763425\n"
     ]
    }
   ],
   "source": [
    "list_col = df.columns.tolist()\n",
    "max_R2 = 0\n",
    "beast_f = []\n",
    "\n",
    "for i in range(len(list_col)):\n",
    "    for j in range(i+1, len(list_col)):\n",
    "        \n",
    "        x2 = df[[list_col[i], list_col[j]]]\n",
    "        ones = np.ones((x2.shape[0], 1)) \n",
    "        x2 = np.hstack((ones, x2)) ### добавляю столбец из \"1\" для кор.расчета const. b0\n",
    "        XTX_2 = x2.T.dot(x2) ### транспонирование и умножение на первонач.матрицу\n",
    "        np.linalg.det(XTX_2) ### определитель матрицы\n",
    "        XTX_inv_2 = np.linalg.inv(XTX_2) ### обратная матрица\n",
    "        b = XTX_inv_2.dot(x2.T).dot(y) ## расчет вектора b = обр.матрица * трансп. матрицу * y\n",
    "        z2 = x2.dot(b) ## матрица * коэф.вектора\n",
    "        def sum_of_squares(samples):\n",
    "            return ((samples - samples.mean()) ** 2).sum() ## сумма квадратов отклонений значений массива y от среднего\n",
    "\n",
    "        R2 = 1 - ((y - z2)**2).sum() / sum_of_squares(y)\n",
    "        if R2 > max_R2:\n",
    "            max_R2 = round(R2, 6)\n",
    "            beast_f = list_col[i], list_col[j]\n",
    "            \n",
    "        print('При', list_col[i],'&', list_col[j], 'R2 =', round(R2, 3))\n",
    "   \n",
    "        \n",
    "print('Наилучший результат при', '&'.join(beast_f), ', R2 = ', max_R2)"
   ]
  },
  {
   "cell_type": "code",
   "execution_count": 148,
   "id": "c911b4ee",
   "metadata": {},
   "outputs": [
    {
     "data": {
      "text/plain": [
       "(2, 7)"
      ]
     },
     "execution_count": 148,
     "metadata": {},
     "output_type": "execute_result"
    }
   ],
   "source": [
    "### значимость уравнения регрессии\n",
    "x2 = df[['X1', 'X3']].values\n",
    "ones = np.ones((x2.shape[0], 1))\n",
    "x2 = np.hstack((ones, x2))\n",
    "\n",
    "n = x2.shape[0]\n",
    "m = x2.shape[1] - 1  # поскольку добавляли фиктивный столбец\n",
    "\n",
    "k1 = m\n",
    "k2 = n - m - 1\n",
    "\n",
    "k1, k2"
   ]
  },
  {
   "cell_type": "markdown",
   "id": "b893da4e",
   "metadata": {},
   "source": [
    "##### Критическая область:"
   ]
  },
  {
   "cell_type": "code",
   "execution_count": 149,
   "id": "53a92dd0",
   "metadata": {},
   "outputs": [
    {
     "data": {
      "text/plain": [
       "4.73741412777588"
      ]
     },
     "execution_count": 149,
     "metadata": {},
     "output_type": "execute_result"
    }
   ],
   "source": [
    "alpha = 0.05\n",
    "\n",
    "t = stats.f.ppf(1 - alpha, k1, k2)\n",
    "t"
   ]
  },
  {
   "cell_type": "code",
   "execution_count": 150,
   "id": "f9e728bb",
   "metadata": {},
   "outputs": [
    {
     "data": {
      "text/plain": [
       "11.294462643981825"
      ]
     },
     "execution_count": 150,
     "metadata": {},
     "output_type": "execute_result"
    }
   ],
   "source": [
    "F = (max_R2 / k1) / ((1 - max_R2) / k2)\n",
    "F"
   ]
  },
  {
   "cell_type": "code",
   "execution_count": 152,
   "id": "c1f571f6",
   "metadata": {},
   "outputs": [],
   "source": [
    "### т.к. F-критерий попал в критическую область => гипотеза о незначимости отвергается, \n",
    "###  уравнение регрессии признаётся значимым"
   ]
  },
  {
   "cell_type": "markdown",
   "id": "c815f59f",
   "metadata": {},
   "source": [
    "### Задача № 2"
   ]
  },
  {
   "cell_type": "code",
   "execution_count": 176,
   "id": "f72d3617",
   "metadata": {},
   "outputs": [],
   "source": [
    "salary = np.array([35, 45, 190, 200, 40, 70, 54, 150, 120, 110]) ### признак\n",
    "scoring = np.array([401, 574, 874, 919, 459, 739, 653, 902, 746, 832]) ## целевая переменная"
   ]
  },
  {
   "cell_type": "code",
   "execution_count": 177,
   "id": "0125781e",
   "metadata": {},
   "outputs": [
    {
     "data": {
      "text/plain": [
       "(444.1773573243596, 2.620538882402765)"
      ]
     },
     "execution_count": 177,
     "metadata": {},
     "output_type": "execute_result"
    }
   ],
   "source": [
    "### коэффициенты линейной регрессии с помощью формулы для парной регрессии\n",
    "\n",
    "b1 = (np.mean(salary * scoring) - np.mean(salary) * np.mean(scoring)) / (np.mean(salary ** 2) - np.mean(salary) ** 2)\n",
    "b0 = np.mean(scoring) - b1 * np.mean(salary)\n",
    "\n",
    "b0, b1"
   ]
  },
  {
   "cell_type": "code",
   "execution_count": 178,
   "id": "8ac75ca9",
   "metadata": {},
   "outputs": [
    {
     "data": {
      "text/plain": [
       "array([[  1.,  35.],\n",
       "       [  1.,  45.],\n",
       "       [  1., 190.],\n",
       "       [  1., 200.],\n",
       "       [  1.,  40.],\n",
       "       [  1.,  70.],\n",
       "       [  1.,  54.],\n",
       "       [  1., 150.],\n",
       "       [  1., 120.],\n",
       "       [  1., 110.]])"
      ]
     },
     "execution_count": 178,
     "metadata": {},
     "output_type": "execute_result"
    }
   ],
   "source": [
    "### коэффициенты линейной регрессии с помощью метода наименьших квадратов\n",
    "x_salary = pd.DataFrame(salary)[[0]].values\n",
    "ones = np.ones((x_salary.shape[0], 1))\n",
    "x_salary = np.hstack((ones, x_salary))\n",
    "x_salary"
   ]
  },
  {
   "cell_type": "code",
   "execution_count": 179,
   "id": "92b37544",
   "metadata": {},
   "outputs": [
    {
     "name": "stdout",
     "output_type": "stream",
     "text": [
      "[444.17735732   2.62053888]\n"
     ]
    }
   ],
   "source": [
    "XTX = x_salary.T.dot(x_salary)\n",
    "\n",
    "np.linalg.det(XTX)\n",
    "XTX_inv = np.linalg.inv(XTX)\n",
    "\n",
    "b = XTX_inv.dot(x_salary.T).dot(scoring)\n",
    "\n",
    "print(b)"
   ]
  },
  {
   "cell_type": "code",
   "execution_count": 180,
   "id": "b58411fe",
   "metadata": {},
   "outputs": [
    {
     "data": {
      "image/png": "[encoded data removed]",
      "text/plain": [
       "<Figure size 432x288 with 1 Axes>"
      ]
     },
     "metadata": {},
     "output_type": "display_data"
    }
   ],
   "source": [
    "### Постройте scatter plot по данным и отметьте на нём прямую линейной регрессии, полученную в п. 1.\n",
    "from matplotlib import pyplot as plt\n",
    "plt.style.use('seaborn-whitegrid')\n",
    "\n",
    "ox = salary\n",
    "oy = b0 + b1 * ox\n",
    "\n",
    "plt.scatter(salary, scoring)\n",
    "plt.plot(ox, oy, color='red', alpha=0.5)\n",
    "\n",
    "plt.xlabel('salary')\n",
    "plt.ylabel('scoring');"
   ]
  },
  {
   "cell_type": "code",
   "execution_count": 181,
   "id": "1677a9af",
   "metadata": {},
   "outputs": [
    {
     "data": {
      "text/plain": [
       "0.7876386635293686"
      ]
     },
     "execution_count": 181,
     "metadata": {},
     "output_type": "execute_result"
    }
   ],
   "source": [
    "### Коэффициент детерминации\n",
    "z1 = b0 + b1 * salary\n",
    "def sum_of_squares(samples):\n",
    "    return ((samples - samples.mean()) ** 2).sum()\n",
    "\n",
    "R1 = 1 - ((scoring - z1)**2).sum() / sum_of_squares(scoring)\n",
    "R1"
   ]
  },
  {
   "cell_type": "code",
   "execution_count": 182,
   "id": "630cab25",
   "metadata": {},
   "outputs": [
    {
     "data": {
      "text/plain": [
       "(1, 8)"
      ]
     },
     "execution_count": 182,
     "metadata": {},
     "output_type": "execute_result"
    }
   ],
   "source": [
    "### Оцените построенное уравнение регрессии с помощью F-критерия Фишера.\n",
    "n = salary.shape[0]\n",
    "m = 1\n",
    "\n",
    "k1 = m\n",
    "k2 = n - m - 1\n",
    "\n",
    "k1, k2"
   ]
  },
  {
   "cell_type": "code",
   "execution_count": 186,
   "id": "6660edfa",
   "metadata": {},
   "outputs": [
    {
     "name": "stdout",
     "output_type": "stream",
     "text": [
      "Критическая область: 5.3177\n",
      "F-критерий Фишера: 29.6716\n"
     ]
    }
   ],
   "source": [
    "alpha = 0.05\n",
    "\n",
    "t = stats.f.ppf(1 - alpha, k1, k2)\n",
    "F = (R1 / k1) / ((1 - R1) / k2)\n",
    "print('Критическая область:', round(t, 4))\n",
    "print('F-критерий Фишера:', round(F, 4))"
   ]
  },
  {
   "cell_type": "code",
   "execution_count": 187,
   "id": "3311fda4",
   "metadata": {},
   "outputs": [],
   "source": [
    "### Статистика попала в критическую область, уравнение регрессии признаётся значимым."
   ]
  },
  {
   "cell_type": "code",
   "execution_count": 190,
   "id": "dccc36e0",
   "metadata": {},
   "outputs": [
    {
     "data": {
      "text/plain": [
       "0.11469251843561709"
      ]
     },
     "execution_count": 190,
     "metadata": {},
     "output_type": "execute_result"
    }
   ],
   "source": [
    "### (доп) Посчитать среднюю ошибку аппроксимации\n",
    "def mean_approximation_error(y_real, y_pred):\n",
    "    return np.abs((y_real - y_pred) / y_real).mean()\n",
    "\n",
    "mean_approximation_error(scoring, z1)"
   ]
  },
  {
   "cell_type": "code",
   "execution_count": null,
   "id": "23b4d5b9",
   "metadata": {},
   "outputs": [],
   "source": [
    "### средняя ошибка аппроксимации > 10% , говорит о том, что теоретические значения отличаются,\n",
    "## от тех которые выдает модель линейной регрессии."
   ]
  }
 ],
 "metadata": {
  "kernelspec": {
   "display_name": "Python 3",
   "language": "python",
   "name": "python3"
  },
  "language_info": {
   "codemirror_mode": {
    "name": "ipython",
    "version": 3
   },
   "file_extension": ".py",
   "mimetype": "text/x-python",
   "name": "python",
   "nbconvert_exporter": "python",
   "pygments_lexer": "ipython3",
   "version": "3.9.0"
  }
 },
 "nbformat": 4,
 "nbformat_minor": 5
}
