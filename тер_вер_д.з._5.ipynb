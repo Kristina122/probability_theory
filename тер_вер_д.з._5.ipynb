{
 "cells": [
  {
   "cell_type": "code",
   "execution_count": 25,
   "id": "fcb8ec79",
   "metadata": {},
   "outputs": [],
   "source": [
    "import numpy as np\n",
    "from scipy import stats"
   ]
  },
  {
   "cell_type": "markdown",
   "id": "093bf354",
   "metadata": {},
   "source": [
    "#### Задача № 1"
   ]
  },
  {
   "cell_type": "code",
   "execution_count": 26,
   "id": "3871d81c",
   "metadata": {},
   "outputs": [],
   "source": [
    "sigma = 16\n",
    "p = 0.95\n",
    "X = 80 ## выборочное среднее\n",
    "n = 256\n",
    "alpha = 1 - p"
   ]
  },
  {
   "cell_type": "code",
   "execution_count": 27,
   "id": "88e84d42",
   "metadata": {},
   "outputs": [
    {
     "data": {
      "text/plain": [
       "(-1.959963984540054, 1.959963984540054)"
      ]
     },
     "execution_count": 27,
     "metadata": {},
     "output_type": "execute_result"
    }
   ],
   "source": [
    "t1 = stats.norm.ppf(alpha / 2)\n",
    "t2 = stats.norm.ppf(1 - alpha / 2)\n",
    "\n",
    "t1, t2"
   ]
  },
  {
   "cell_type": "code",
   "execution_count": 28,
   "id": "4bf76a87",
   "metadata": {},
   "outputs": [
    {
     "data": {
      "text/plain": [
       "(78.04003601545995, 81.95996398454005)"
      ]
     },
     "execution_count": 28,
     "metadata": {},
     "output_type": "execute_result"
    }
   ],
   "source": [
    "(X + t1 * sigma / np.sqrt(n), X + t2 * sigma / np.sqrt(n))"
   ]
  },
  {
   "cell_type": "markdown",
   "id": "0c043acb",
   "metadata": {},
   "source": [
    "#### Задача № 2"
   ]
  },
  {
   "cell_type": "code",
   "execution_count": 32,
   "id": "d8ac892e",
   "metadata": {},
   "outputs": [
    {
     "data": {
      "text/plain": [
       "(-3.2498355440153697, 3.2498355440153697)"
      ]
     },
     "execution_count": 32,
     "metadata": {},
     "output_type": "execute_result"
    }
   ],
   "source": [
    "samples = np.array([202, 203, 199, 197, 195, 201, 200, 204, 194, 190])\n",
    "alpha = 0.01\n",
    "mu = 200\n",
    "\n",
    "def statistic(samples):\n",
    "    return (samples.mean() - mu) / (samples.std(ddof=1) / np.sqrt(samples.shape[0]))\n",
    "\n",
    "n = samples.shape[0]\n",
    "\n",
    "t1 = stats.t.ppf(alpha / 2, df=n - 1)\n",
    "t2 = stats.t.ppf(1 - alpha / 2, df=n - 1)\n",
    "\n",
    "t1, t2"
   ]
  },
  {
   "cell_type": "code",
   "execution_count": 33,
   "id": "8ba8f899",
   "metadata": {},
   "outputs": [
    {
     "data": {
      "text/plain": [
       "-1.0651074037450896"
      ]
     },
     "execution_count": 33,
     "metadata": {},
     "output_type": "execute_result"
    }
   ],
   "source": [
    "t = statistic(samples)\n",
    "t"
   ]
  },
  {
   "cell_type": "code",
   "execution_count": 37,
   "id": "b8bfd201",
   "metadata": {},
   "outputs": [],
   "source": [
    "### Значение статистики не попало в критическую область, значит, гипотеза остаётся в силе."
   ]
  },
  {
   "cell_type": "code",
   "execution_count": 39,
   "id": "d3994813",
   "metadata": {},
   "outputs": [
    {
     "data": {
      "text/plain": [
       "0.3145666035247285"
      ]
     },
     "execution_count": 39,
     "metadata": {},
     "output_type": "execute_result"
    }
   ],
   "source": [
    "p_left = stats.t.cdf(t, df=n - 1)\n",
    "p_right = 1 - stats.t.cdf(t, df=n - 1)\n",
    "\n",
    "pvalue = 2 * min(p_left, p_right)\n",
    "\n",
    "pvalue"
   ]
  },
  {
   "cell_type": "code",
   "execution_count": 40,
   "id": "9e9c5207",
   "metadata": {},
   "outputs": [],
   "source": [
    "### p-значение > alpha => нулевая гипотеза не отвергается"
   ]
  },
  {
   "cell_type": "markdown",
   "id": "3e599c88",
   "metadata": {},
   "source": [
    "#### Задача № 3"
   ]
  },
  {
   "cell_type": "code",
   "execution_count": 43,
   "id": "8a99b764",
   "metadata": {},
   "outputs": [],
   "source": [
    "mu = 17\n",
    "n = 100\n",
    "alpha = 0.025\n",
    "sigma = np.sqrt(4)\n",
    "x_mean = 17.5"
   ]
  },
  {
   "cell_type": "code",
   "execution_count": 50,
   "id": "d012e1cc",
   "metadata": {},
   "outputs": [
    {
     "name": "stdout",
     "output_type": "stream",
     "text": [
      "1.959963984540054 2.5\n"
     ]
    }
   ],
   "source": [
    "t_2 = stats.norm.ppf(1 - alpha) #### критическая область\n",
    "z = (x_mean - mu) / (sigma / np.sqrt(n)) ### статистика\n",
    "\n",
    "print(t_2, z)"
   ]
  },
  {
   "cell_type": "code",
   "execution_count": 46,
   "id": "e5583277",
   "metadata": {},
   "outputs": [
    {
     "data": {
      "text/plain": [
       "0.006209665325776159"
      ]
     },
     "execution_count": 46,
     "metadata": {},
     "output_type": "execute_result"
    }
   ],
   "source": [
    "p_right = 1 - stats.norm.cdf(z) ### для правосторонней области\n",
    "p_right"
   ]
  },
  {
   "cell_type": "code",
   "execution_count": null,
   "id": "3383311f",
   "metadata": {},
   "outputs": [],
   "source": [
    "### статистика попала в критическую область => нулевая гипотеза отвергается"
   ]
  }
 ],
 "metadata": {
  "kernelspec": {
   "display_name": "Python 3",
   "language": "python",
   "name": "python3"
  },
  "language_info": {
   "codemirror_mode": {
    "name": "ipython",
    "version": 3
   },
   "file_extension": ".py",
   "mimetype": "text/x-python",
   "name": "python",
   "nbconvert_exporter": "python",
   "pygments_lexer": "ipython3",
   "version": "3.9.0"
  }
 },
 "nbformat": 4,
 "nbformat_minor": 5
}
