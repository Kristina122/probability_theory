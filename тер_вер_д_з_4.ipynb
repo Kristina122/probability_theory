{
 "cells": [
  {
   "cell_type": "code",
   "execution_count": 15,
   "id": "2d50c9c5",
   "metadata": {},
   "outputs": [],
   "source": [
    "import pandas as pd\n",
    "import numpy as np\n",
    "\n",
    "from scipy import stats"
   ]
  },
  {
   "cell_type": "markdown",
   "id": "7d9b391a",
   "metadata": {},
   "source": [
    "#### Задача № 1"
   ]
  },
  {
   "cell_type": "code",
   "execution_count": 16,
   "id": "5a8f3b38",
   "metadata": {},
   "outputs": [
    {
     "name": "stdout",
     "output_type": "stream",
     "text": [
      "Правая граница: 2.049\n"
     ]
    }
   ],
   "source": [
    "D = 0.2\n",
    "A = 0.5\n",
    "## т.к. известна левая граница, выразим чему равна правая граница через формулу дисперсии\n",
    "def right(disp, left):\n",
    "    return (disp*12)**0.5 + left\n",
    "\n",
    "print('Правая граница:', round(right(D, A), 3))"
   ]
  },
  {
   "cell_type": "markdown",
   "id": "1a5d02dd",
   "metadata": {},
   "source": [
    "#### Задача № 2"
   ]
  },
  {
   "cell_type": "code",
   "execution_count": 17,
   "id": "ba5a55ef",
   "metadata": {},
   "outputs": [
    {
     "name": "stdout",
     "output_type": "stream",
     "text": [
      "Вероятность того, что случайным образом выбранный взрослый человек имеет рост:\n",
      "больше 182 см:  0.159\n",
      "больше 190 см:  0.023\n",
      "от 166 см до 190 см:  0.819\n",
      "от 166 см до 182 см:  0.683\n",
      "от 158 см до 190 см:  0.954\n",
      "не выше 150 см или не ниже 190 см:  0.024\n",
      "не выше 150 см или не ниже 198 см:  0.003\n",
      "ниже 166 см:  0.159\n"
     ]
    }
   ],
   "source": [
    "height_ave = 174\n",
    "deviation = 8\n",
    "\n",
    "### больше 182 см.\n",
    "p_1 = 1 - stats.norm.cdf((182 - height_ave) / deviation) - stats.norm.cdf((0 - height_ave) / deviation)\n",
    "### больше 190 см\n",
    "p_2 = 1 - stats.norm.cdf((190 - height_ave) / deviation) - stats.norm.cdf((0 - height_ave) / deviation)\n",
    "### от 166 см до 190 см\n",
    "p_3 = stats.norm.cdf((190 - height_ave) / deviation) - stats.norm.cdf((166 - height_ave) / deviation)\n",
    "### от 166 см до 182 см\n",
    "p_4 = stats.norm.cdf((182 - height_ave) / deviation) - stats.norm.cdf((166 - height_ave) / deviation)\n",
    "### от 158 см до 190 см\n",
    "p_5 = stats.norm.cdf((190 - height_ave) / deviation) - stats.norm.cdf((158 - height_ave) / deviation)\n",
    "### не выше 150 см или не ниже 190 см\n",
    "p_6 = (1 - stats.norm.cdf((190 - height_ave) / deviation) - stats.norm.cdf((0 - height_ave) / deviation)) + (stats.norm.cdf((150 - height_ave) / deviation) - stats.norm.cdf((0 - height_ave) / deviation))\n",
    "### не выше 150 см или не ниже 198 см\n",
    "p_7 = (1 - stats.norm.cdf((198 - height_ave) / deviation) - stats.norm.cdf((0 - height_ave) / deviation)) + (stats.norm.cdf((150 - height_ave) / deviation) - stats.norm.cdf((0 - height_ave) / deviation))\n",
    "### ниже 166 см\n",
    "p_8 = stats.norm.cdf((166 - height_ave) / deviation) - stats.norm.cdf((0 - height_ave) / deviation)\n",
    "\n",
    "print('Вероятность того, что случайным образом выбранный взрослый человек имеет рост:')\n",
    "print('больше 182 см: ', round(p_1, 3))\n",
    "print('больше 190 см: ', round(p_2, 3))\n",
    "print('от 166 см до 190 см: ', round(p_3, 3))\n",
    "print('от 166 см до 182 см: ', round(p_4, 3))\n",
    "print('от 158 см до 190 см: ', round(p_5, 3))\n",
    "print('не выше 150 см или не ниже 190 см: ', round(p_6, 3))\n",
    "print('не выше 150 см или не ниже 198 см: ', round(p_7, 3))\n",
    "print('ниже 166 см: ', round(p_8, 3))"
   ]
  },
  {
   "cell_type": "code",
   "execution_count": null,
   "id": "2a8f6c72",
   "metadata": {},
   "outputs": [],
   "source": []
  }
 ],
 "metadata": {
  "kernelspec": {
   "display_name": "Python 3",
   "language": "python",
   "name": "python3"
  },
  "language_info": {
   "codemirror_mode": {
    "name": "ipython",
    "version": 3
   },
   "file_extension": ".py",
   "mimetype": "text/x-python",
   "name": "python",
   "nbconvert_exporter": "python",
   "pygments_lexer": "ipython3",
   "version": "3.9.0"
  }
 },
 "nbformat": 4,
 "nbformat_minor": 5
}
