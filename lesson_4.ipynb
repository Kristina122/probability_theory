{
 "cells": [
  {
   "cell_type": "code",
   "execution_count": 15,
   "id": "73ef8338",
   "metadata": {},
   "outputs": [],
   "source": [
    "import numpy as np\n",
    "import pandas as pd\n",
    "from scipy import stats"
   ]
  },
  {
   "cell_type": "markdown",
   "id": "86aaf8c6",
   "metadata": {},
   "source": [
    "### Задание 1"
   ]
  },
  {
   "cell_type": "markdown",
   "id": "b9f00b67",
   "metadata": {},
   "source": [
    "1. Случайная непрерывная величина A имеет равномерное распределение на промежутке (200, 800].\n",
    "Найдите ее среднее значение и дисперсию."
   ]
  },
  {
   "cell_type": "code",
   "execution_count": 6,
   "id": "2d7f16c7",
   "metadata": {},
   "outputs": [
    {
     "name": "stdout",
     "output_type": "stream",
     "text": [
      "среднее значение распределения равно: 500.0\n",
      "дисперсия:  30000.0\n"
     ]
    }
   ],
   "source": [
    "a = 200\n",
    "b = 800\n",
    "\n",
    "m = (a + b) / 2\n",
    "d = (b - a)**2 / 12\n",
    "\n",
    "print('среднее значение распределения равно:', m)\n",
    "print('дисперсия: ', d)"
   ]
  },
  {
   "cell_type": "markdown",
   "id": "eac063ad",
   "metadata": {},
   "source": [
    "### Задание 2"
   ]
  },
  {
   "cell_type": "markdown",
   "id": "0a5abd59",
   "metadata": {},
   "source": [
    "О случайной непрерывной равномерно распределенной величине B известно, что ее дисперсия равна 0.2.\n",
    "Можно ли найти правую границу величины B и ее среднее значение зная, что левая граница равна 0.5?\n",
    "Если да, найдите ее.\n"
   ]
  },
  {
   "cell_type": "code",
   "execution_count": 12,
   "id": "9b8492a0",
   "metadata": {},
   "outputs": [
    {
     "name": "stdout",
     "output_type": "stream",
     "text": [
      "Правая граница: 2.049\n",
      "Среднее значение: 1.275\n"
     ]
    }
   ],
   "source": [
    "disp = 0.2\n",
    "left = 0.5\n",
    "\n",
    "## т.к. известна левая граница, выразим чему равна правая граница через формулу дисперсии\n",
    "right = (disp*12)**0.5 + left\n",
    "\n",
    "m = (right + left) / 2\n",
    "\n",
    "print('Правая граница:', round(right, 3))\n",
    "print('Среднее значение:', round(m, 3))"
   ]
  },
  {
   "cell_type": "markdown",
   "id": "b1cb1bb2",
   "metadata": {},
   "source": [
    "### Задание 3"
   ]
  },
  {
   "cell_type": "markdown",
   "id": "659945f5",
   "metadata": {},
   "source": [
    "Непрерывная случайная величина X распределена нормально и задана плотностью распределения\n",
    "f(x) = (1 / (4 * sqrt(2*pi))) * (exp(-(x+2)**2) / 32).\n",
    "Найдите:\n",
    "а). M(X)\n",
    "б). D(X)\n",
    "в). std(X) (среднее квадратичное отклонение)\n"
   ]
  },
  {
   "cell_type": "code",
   "execution_count": 13,
   "id": "8e327dc2",
   "metadata": {},
   "outputs": [],
   "source": [
    "### исходя из формулы плотности распределения:\n",
    "m = -2 # математическое ожидание \n",
    "d = 16 # дисперсия\n",
    "## среднее квадратичное отклонение:\n",
    "s = 4\n"
   ]
  },
  {
   "cell_type": "markdown",
   "id": "98793b52",
   "metadata": {},
   "source": [
    "### Задание 4"
   ]
  },
  {
   "cell_type": "markdown",
   "id": "2e4fb522",
   "metadata": {},
   "source": [
    "Рост взрослого населения города X имеет нормальное распределение.\n",
    "Причем, средний рост равен 174 см, а среднее квадратичное отклонение равно 8 см.\n",
    "Какова вероятность того, что случайным образом выбранный взрослый человек имеет рост:\n",
    "а). больше 182 см\n",
    "б). больше 190 см\n",
    "в). от 166 см до 190 см\n",
    "г). от 166 см до 182 см\n",
    "д). от 158 см до 190 см\n",
    "е). не выше 150 см или не ниже 190 см\n",
    "ё). не выше 150 см или не ниже 198 см\n",
    "ж). ниже 166 см.\n"
   ]
  },
  {
   "cell_type": "code",
   "execution_count": 16,
   "id": "f4bcced7",
   "metadata": {},
   "outputs": [
    {
     "name": "stdout",
     "output_type": "stream",
     "text": [
      "Вероятность того, что случайным образом выбранный взрослый человек имеет рост:\n",
      "больше 182 см:  0.159\n",
      "больше 190 см:  0.023\n",
      "от 166 см до 190 см:  0.819\n",
      "от 166 см до 182 см:  0.683\n",
      "от 158 см до 190 см:  0.954\n",
      "не выше 150 см или не ниже 190 см:  0.024\n",
      "не выше 150 см или не ниже 198 см:  0.003\n",
      "ниже 166 см:  0.159\n"
     ]
    }
   ],
   "source": [
    "height_ave = 174\n",
    "deviation = 8\n",
    "\n",
    "### больше 182 см.\n",
    "p_1 = 1 - stats.norm.cdf((182 - height_ave) / deviation) - stats.norm.cdf((0 - height_ave) / deviation)\n",
    "### больше 190 см\n",
    "p_2 = 1 - stats.norm.cdf((190 - height_ave) / deviation) - stats.norm.cdf((0 - height_ave) / deviation)\n",
    "### от 166 см до 190 см\n",
    "p_3 = stats.norm.cdf((190 - height_ave) / deviation) - stats.norm.cdf((166 - height_ave) / deviation)\n",
    "### от 166 см до 182 см\n",
    "p_4 = stats.norm.cdf((182 - height_ave) / deviation) - stats.norm.cdf((166 - height_ave) / deviation)\n",
    "### от 158 см до 190 см\n",
    "p_5 = stats.norm.cdf((190 - height_ave) / deviation) - stats.norm.cdf((158 - height_ave) / deviation)\n",
    "### не выше 150 см или не ниже 190 см\n",
    "p_6 = (1 - stats.norm.cdf((190 - height_ave) / deviation) - stats.norm.cdf((0 - height_ave) / deviation)) + (stats.norm.cdf((150 - height_ave) / deviation) - stats.norm.cdf((0 - height_ave) / deviation))\n",
    "### не выше 150 см или не ниже 198 см\n",
    "p_7 = (1 - stats.norm.cdf((198 - height_ave) / deviation) - stats.norm.cdf((0 - height_ave) / deviation)) + (stats.norm.cdf((150 - height_ave) / deviation) - stats.norm.cdf((0 - height_ave) / deviation))\n",
    "### ниже 166 см\n",
    "p_8 = stats.norm.cdf((166 - height_ave) / deviation) - stats.norm.cdf((0 - height_ave) / deviation)\n",
    "\n",
    "print('Вероятность того, что случайным образом выбранный взрослый человек имеет рост:')\n",
    "print('больше 182 см: ', round(p_1, 3))\n",
    "print('больше 190 см: ', round(p_2, 3))\n",
    "print('от 166 см до 190 см: ', round(p_3, 3))\n",
    "print('от 166 см до 182 см: ', round(p_4, 3))\n",
    "print('от 158 см до 190 см: ', round(p_5, 3))\n",
    "print('не выше 150 см или не ниже 190 см: ', round(p_6, 3))\n",
    "print('не выше 150 см или не ниже 198 см: ', round(p_7, 3))\n",
    "print('ниже 166 см: ', round(p_8, 3))"
   ]
  },
  {
   "cell_type": "markdown",
   "id": "73e440b4",
   "metadata": {},
   "source": [
    "### Задание 5"
   ]
  },
  {
   "cell_type": "markdown",
   "id": "61e5d519",
   "metadata": {},
   "source": [
    "На сколько сигм (средних квадратичных отклонений) отклоняется рост человека, равный 190 см, от\n",
    "математического ожидания роста в популяции, в которой M(X) = 178 см и D(X) = 25 кв.см?\n"
   ]
  },
  {
   "cell_type": "code",
   "execution_count": 19,
   "id": "e5e87a4a",
   "metadata": {},
   "outputs": [
    {
     "data": {
      "text/plain": [
       "5.0"
      ]
     },
     "execution_count": 19,
     "metadata": {},
     "output_type": "execute_result"
    }
   ],
   "source": [
    "x = 190\n",
    "M = 178\n",
    "D = 25\n",
    "sigma = np.sqrt(25) # среднеквадратическое отклонение \n",
    "\n",
    "sigma"
   ]
  },
  {
   "cell_type": "code",
   "execution_count": 32,
   "id": "f84b8fd2",
   "metadata": {},
   "outputs": [
    {
     "name": "stdout",
     "output_type": "stream",
     "text": [
      "первый интервал от 178 - 183.0\n",
      "первый интервал от 178 - 188.0\n",
      "первый интервал от 178 - 193.0\n"
     ]
    }
   ],
   "source": [
    "print('первый интервал от', M, '-', M + sigma) # считаю только в правую сторону, чтобы меньше цифр было :-)\n",
    "print('первый интервал от', M, '-', M + 2*sigma)\n",
    "print('первый интервал от', M, '-', M + 3*sigma)"
   ]
  },
  {
   "cell_type": "markdown",
   "id": "63421341",
   "metadata": {},
   "source": [
    "Рост человека равный 190 см отклоняется от среднего на 3 сигмы"
   ]
  }
 ],
 "metadata": {
  "kernelspec": {
   "display_name": "Python 3",
   "language": "python",
   "name": "python3"
  },
  "language_info": {
   "codemirror_mode": {
    "name": "ipython",
    "version": 3
   },
   "file_extension": ".py",
   "mimetype": "text/x-python",
   "name": "python",
   "nbconvert_exporter": "python",
   "pygments_lexer": "ipython3",
   "version": "3.9.0"
  }
 },
 "nbformat": 4,
 "nbformat_minor": 5
}
